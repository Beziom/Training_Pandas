{
 "cells": [
  {
   "attachments": {},
   "cell_type": "markdown",
   "metadata": {},
   "source": [
    "### Using df.loc[], df.iloc[] and logix index"
   ]
  },
  {
   "cell_type": "code",
   "execution_count": null,
   "metadata": {},
   "outputs": [],
   "source": [
    "import pandas as pd"
   ]
  },
  {
   "cell_type": "code",
   "execution_count": null,
   "metadata": {},
   "outputs": [],
   "source": [
    "df = pd.read_excel(\"D:\\Repozytorium\\Kody_Python\\Python_ksiazka_przyklady\\excel\\course_participants.xlsx\", index_col=0)\n",
    "df"
   ]
  },
  {
   "cell_type": "code",
   "execution_count": null,
   "metadata": {},
   "outputs": [],
   "source": [
    "#Data choosing by label\n",
    "print(\"\\n(Single Value)\\n\")\n",
    "print(df.loc[1000,\"kraj\"])\n",
    "print(\"\\n(One column [One dimension])\\n\")\n",
    "print(df.loc[:,\"kraj\"])\n",
    "print(\"\\n(One column [Two dimension])\\n\")\n",
    "print(df.loc[:,[\"kraj\"]])\n",
    "print(\"\\n(More columns)\\n\")\n",
    "print(df.loc[:,[\"kraj\", \"wiek\"]])\n",
    "print(\"\\n(Range of columns)\\n\")\n",
    "print(df.loc[:,\"imię\":\"kraj\"])\n",
    "print(\"\\n(One Row [One dimension])\\n\")\n",
    "print(df.loc[1000,:])\n",
    "print(\"\\n(One Row [Two dimensions])\\n\")\n",
    "print(df.loc[[1000],:])\n",
    "print(\"\\n(Few rows)\\n\")\n",
    "print(df.loc[[1003,1000],:])\n",
    "print(\"\\n(Range of rows)\\n\")\n",
    "print(df.loc[1000:1002,:])"
   ]
  },
  {
   "cell_type": "code",
   "execution_count": null,
   "metadata": {},
   "outputs": [],
   "source": [
    "#Data choosing by position\n",
    "\"Single Value\"\n",
    "df.iloc[1,2]"
   ]
  },
  {
   "cell_type": "code",
   "execution_count": null,
   "metadata": {},
   "outputs": [],
   "source": [
    "\"1 column (1 dimension)\"\n",
    "df.iloc[:,2]"
   ]
  },
  {
   "cell_type": "code",
   "execution_count": null,
   "metadata": {},
   "outputs": [],
   "source": [
    "\"1 column (two dimensions)\"\n",
    "df.iloc[:,[2]]"
   ]
  },
  {
   "cell_type": "code",
   "execution_count": null,
   "metadata": {},
   "outputs": [],
   "source": [
    "\"More columns\"\n",
    "df.iloc[:,[1,2]]"
   ]
  },
  {
   "cell_type": "code",
   "execution_count": null,
   "metadata": {},
   "outputs": [],
   "source": [
    "\"Range columns\"\n",
    "df.iloc[:,0:3]"
   ]
  },
  {
   "attachments": {},
   "cell_type": "markdown",
   "metadata": {},
   "source": [
    "### Logic indexing\n",
    "##### & (and), | (or), ~(not)"
   ]
  },
  {
   "cell_type": "code",
   "execution_count": null,
   "metadata": {},
   "outputs": [],
   "source": [
    "\"Basic logic index (remember about nawiasy)\"\n",
    "tf = (df[\"wiek\"]>40) & (df[\"kraj\"]==\"USA\")\n",
    "tf"
   ]
  },
  {
   "cell_type": "code",
   "execution_count": null,
   "metadata": {},
   "outputs": [],
   "source": [
    "df.loc[tf,:]"
   ]
  },
  {
   "cell_type": "code",
   "execution_count": null,
   "metadata": {},
   "outputs": [],
   "source": [
    "\"Filering by index\"\n",
    "df.loc[df.index >1001, :]"
   ]
  },
  {
   "cell_type": "code",
   "execution_count": null,
   "metadata": {},
   "outputs": [],
   "source": [
    "\"Using isin\"\n",
    "# isin([])\n",
    "df.loc[df[\"kraj\"].isin([\"Włochy\", \"Niemcy\"])]"
   ]
  },
  {
   "cell_type": "code",
   "execution_count": null,
   "metadata": {},
   "outputs": [],
   "source": [
    "\"Creating new Dataftame and diplaying it\"\n",
    "rainfall = pd.DataFrame(data={\"Miasto 1\":[300.1, 100.2],\"Miasto 2\":[400.3, 300.4], \"Miasto 3\": [1000.5, 1100.6]})\n",
    "rainfall"
   ]
  },
  {
   "cell_type": "code",
   "execution_count": null,
   "metadata": {},
   "outputs": [],
   "source": [
    "\"Checking if values are greater than 400\"\n",
    "rainfall>400"
   ]
  },
  {
   "cell_type": "code",
   "execution_count": null,
   "metadata": {},
   "outputs": [],
   "source": [
    "\"cheking if values are greater less than 400 *values + NaN*\"\n",
    "rainfall[rainfall<400]"
   ]
  },
  {
   "cell_type": "code",
   "execution_count": null,
   "metadata": {},
   "outputs": [],
   "source": []
  }
 ],
 "metadata": {
  "kernelspec": {
   "display_name": "Python 3.10.4 64-bit",
   "language": "python",
   "name": "python3"
  },
  "language_info": {
   "codemirror_mode": {
    "name": "ipython",
    "version": 3
   },
   "file_extension": ".py",
   "mimetype": "text/x-python",
   "name": "python",
   "nbconvert_exporter": "python",
   "pygments_lexer": "ipython3",
   "version": "3.10.4"
  },
  "orig_nbformat": 4,
  "vscode": {
   "interpreter": {
    "hash": "b2479ae270f55b53aebf886fbbdaacff6de5921ff9a36b347b36f838676bd380"
   }
  }
 },
 "nbformat": 4,
 "nbformat_minor": 2
}
