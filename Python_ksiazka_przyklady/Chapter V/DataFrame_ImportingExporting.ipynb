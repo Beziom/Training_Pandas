{
 "cells": [
  {
   "cell_type": "code",
   "execution_count": null,
   "metadata": {},
   "outputs": [],
   "source": [
    "import pandas as pd"
   ]
  },
  {
   "attachments": {},
   "cell_type": "markdown",
   "metadata": {},
   "source": [
    "Importing:\n",
    "<br>\n",
    "pd.read_csv\n",
    "<br>\n",
    "pd.read_json\n",
    "<br>\n",
    "pd.read_html\n",
    "<br>\n",
    "pd.read_clipboard\n",
    "<br>\n",
    "pd.read_excel\n",
    "<br>\n",
    "pd.read_sql\n",
    "<br><br>\n",
    "Exporting\n",
    "<br>\n",
    "df.to\n",
    "\n",
    "Methods:\n",
    "<br>\n",
    "df.info()\n",
    "<br>\n",
    "df.describe\n",
    "<br>\n",
    "df.head anddf.tail (last and firtt rows, n=5)\n",
    "df.dtypes"
   ]
  },
  {
   "cell_type": "code",
   "execution_count": null,
   "metadata": {},
   "outputs": [],
   "source": [
    "df = pd.read_excel(\"D:\\Repozytorium\\Kody_Python\\Python_ksiazka_przyklady\\excel\\course_participants.xlsx\")"
   ]
  },
  {
   "cell_type": "code",
   "execution_count": null,
   "metadata": {},
   "outputs": [],
   "source": [
    "\"Exproting data to file in the same path\"\n",
    "df.to_csv(\"course_participants.csv\")"
   ]
  },
  {
   "cell_type": "code",
   "execution_count": null,
   "metadata": {},
   "outputs": [],
   "source": [
    "msft = pd.read_csv(\"D:\\Repozytorium\\Kody_Python\\Python_ksiazka_przyklady\\csv\\MSFT.csv\")\n",
    "msft.info()"
   ]
  },
  {
   "cell_type": "code",
   "execution_count": null,
   "metadata": {},
   "outputs": [],
   "source": [
    "\"Data filtering to decrease memory\"\n",
    "msft.loc[:, [\"Date\", \"Adj Close\", \"Volume\"]].head()"
   ]
  },
  {
   "cell_type": "code",
   "execution_count": null,
   "metadata": {},
   "outputs": [],
   "source": [
    "msft.loc[:, [\"Date\", \"Adj Close\", \"Volume\"]].tail(2)"
   ]
  },
  {
   "cell_type": "code",
   "execution_count": null,
   "metadata": {},
   "outputs": [],
   "source": [
    "#describe()\n",
    "msft.loc[:,[\"Adj Close\", \"Volume\"]].describe()"
   ]
  },
  {
   "cell_type": "code",
   "execution_count": null,
   "metadata": {},
   "outputs": [],
   "source": [
    "url = (\"https://raw.githubusercontent.com/fzumstein/\"\n",
    "       \"python-for-excel/1st-edition/csv/MSFT.csv\")\n",
    "lol = pd.read_csv(url)\n",
    "lol.loc[:,[\"Date\",\"Adj Close\", \"Volume\"]]"
   ]
  }
 ],
 "metadata": {
  "kernelspec": {
   "display_name": "Python 3",
   "language": "python",
   "name": "python3"
  },
  "language_info": {
   "codemirror_mode": {
    "name": "ipython",
    "version": 3
   },
   "file_extension": ".py",
   "mimetype": "text/x-python",
   "name": "python",
   "nbconvert_exporter": "python",
   "pygments_lexer": "ipython3",
   "version": "3.10.4"
  },
  "orig_nbformat": 4,
  "vscode": {
   "interpreter": {
    "hash": "b2479ae270f55b53aebf886fbbdaacff6de5921ff9a36b347b36f838676bd380"
   }
  }
 },
 "nbformat": 4,
 "nbformat_minor": 2
}
