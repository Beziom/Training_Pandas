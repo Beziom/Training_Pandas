{
 "cells": [
  {
   "cell_type": "code",
   "execution_count": null,
   "metadata": {},
   "outputs": [],
   "source": [
    "import pandas as pd"
   ]
  },
  {
   "cell_type": "code",
   "execution_count": null,
   "metadata": {},
   "outputs": [],
   "source": [
    "Data1 = pd.read_excel(r\"D:\\Repozytorium\\Kody_Python\\Python_ksiazka_przyklady\\excel\\course_participants.xlsx\")\n",
    "pd.read_excel(r\"D:\\Repozytorium\\Kody_Python\\Python_ksiazka_przyklady\\excel\\course_participants.xlsx\")"
   ]
  },
  {
   "cell_type": "code",
   "execution_count": null,
   "metadata": {},
   "outputs": [],
   "source": [
    "#Manual Data creation\n",
    "data2 = [[\"Mark\", 55, \"Italy\", 4.5, \"Europa\"],\n",
    "         [\"John\", 33, \"USA\", 6.7, \"Ameryka\"],\n",
    "         [\"Tim\", 41, \"USA\", 3.9, \"Ameryka\"],\n",
    "         [\"Jenny\", 12, \"Niemcy\", 9.0, \"Europa\"]]"
   ]
  },
  {
   "cell_type": "code",
   "execution_count": null,
   "metadata": {},
   "outputs": [],
   "source": [
    "#Dataframe cration\n",
    "df = pd.DataFrame(data=data2, columns=[\"imię\", \"wiek\",\"kraj\", \"ocena\", \"kontynent\"], index=[1001,1000,1002, 1003])"
   ]
  },
  {
   "cell_type": "code",
   "execution_count": null,
   "metadata": {},
   "outputs": [],
   "source": [
    "df"
   ]
  },
  {
   "cell_type": "markdown",
   "metadata": {},
   "source": [
    "### Index manipulation"
   ]
  },
  {
   "cell_type": "code",
   "execution_count": null,
   "metadata": {},
   "outputs": [],
   "source": [
    "#Basic infos about dataframe\n",
    "df.info()"
   ]
  },
  {
   "cell_type": "code",
   "execution_count": null,
   "metadata": {},
   "outputs": [],
   "source": [
    "#Adding index name\n",
    "df.index.name = \"numer\"\n",
    "df"
   ]
  },
  {
   "cell_type": "code",
   "execution_count": null,
   "metadata": {},
   "outputs": [],
   "source": [
    "#Reseting index name\n",
    "df.reset_index()\n",
    "df.set_index(\"imię\")"
   ]
  },
  {
   "cell_type": "code",
   "execution_count": null,
   "metadata": {},
   "outputs": [],
   "source": [
    "#reindex\n",
    "df.reindex([999,1000,1001,1002])"
   ]
  },
  {
   "cell_type": "code",
   "execution_count": null,
   "metadata": {},
   "outputs": [],
   "source": [
    "#Sorting incex by the calue\n",
    "df.sort_index()"
   ]
  },
  {
   "cell_type": "code",
   "execution_count": null,
   "metadata": {},
   "outputs": [],
   "source": [
    "df.sort_values(\"wiek\")"
   ]
  },
  {
   "cell_type": "code",
   "execution_count": null,
   "metadata": {},
   "outputs": [],
   "source": [
    "df.sort_values([\"wiek\",\"kraj\"])"
   ]
  },
  {
   "cell_type": "markdown",
   "metadata": {},
   "source": [
    "### Columns manipulation"
   ]
  },
  {
   "cell_type": "code",
   "execution_count": null,
   "metadata": {},
   "outputs": [],
   "source": [
    "#Checking column names\n",
    "df.columns"
   ]
  },
  {
   "cell_type": "code",
   "execution_count": null,
   "metadata": {},
   "outputs": [],
   "source": [
    "#Remaning column\n",
    "df.columns.name = \"Cechy\"\n",
    "df"
   ]
  },
  {
   "cell_type": "code",
   "execution_count": null,
   "metadata": {},
   "outputs": [],
   "source": [
    "#Remaning column\n",
    "df.rename(columns={\"imię\":\"Imię\", \"wiek\":\"Wiek\", \"kraj\": \"Kraj\", \"kontynent\":\"Kontynent\"})"
   ]
  },
  {
   "cell_type": "code",
   "execution_count": null,
   "metadata": {},
   "outputs": [],
   "source": [
    "#Usuwanie danch column\n",
    "df.drop(columns=[\"kraj\", \"kontynent\"], index=[1000, 1002])"
   ]
  },
  {
   "cell_type": "code",
   "execution_count": null,
   "metadata": {},
   "outputs": [],
   "source": [
    "#Transpozition\n",
    "df.T"
   ]
  },
  {
   "cell_type": "code",
   "execution_count": null,
   "metadata": {},
   "outputs": [],
   "source": [
    "#Column choosing in sorting we want\n",
    "df.loc[:,[\"kontynent\", \"kraj\", \"imię\",\"wiek\", \"ocena\"]]"
   ]
  }
 ],
 "metadata": {
  "kernelspec": {
   "display_name": "Python 3.10.4 64-bit",
   "language": "python",
   "name": "python3"
  },
  "language_info": {
   "codemirror_mode": {
    "name": "ipython",
    "version": 3
   },
   "file_extension": ".py",
   "mimetype": "text/x-python",
   "name": "python",
   "nbconvert_exporter": "python",
   "pygments_lexer": "ipython3",
   "version": "3.10.4"
  },
  "orig_nbformat": 4,
  "vscode": {
   "interpreter": {
    "hash": "b2479ae270f55b53aebf886fbbdaacff6de5921ff9a36b347b36f838676bd380"
   }
  }
 },
 "nbformat": 4,
 "nbformat_minor": 2
}
