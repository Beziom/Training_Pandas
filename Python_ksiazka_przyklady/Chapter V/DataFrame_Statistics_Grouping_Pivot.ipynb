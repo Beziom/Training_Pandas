{
 "cells": [
  {
   "attachments": {},
   "cell_type": "markdown",
   "metadata": {},
   "source": [
    "# Statistics"
   ]
  },
  {
   "cell_type": "code",
   "execution_count": null,
   "metadata": {},
   "outputs": [],
   "source": [
    "import pandas as pd"
   ]
  },
  {
   "cell_type": "code",
   "execution_count": null,
   "metadata": {},
   "outputs": [],
   "source": [
    "df = pd.read_excel(\"D:\\Repozytorium\\Kody_Python\\Python_ksiazka_przyklady\\excel\\course_participants.xlsx\", index_col=0)\n",
    "rainfall = pd.DataFrame(data={\"Miasto 1\":[300.1, 100.2],\"Miasto 2\":[400.3, 300.4], \"Miasto 3\": [1000.5, 1100.6]})\n",
    "df"
   ]
  },
  {
   "cell_type": "code",
   "execution_count": null,
   "metadata": {},
   "outputs": [],
   "source": [
    "\"Statistics for columns\"\n",
    "rainfall.mean()"
   ]
  },
  {
   "cell_type": "code",
   "execution_count": null,
   "metadata": {},
   "outputs": [],
   "source": [
    "\"Statistics for indexes\"\n",
    "rainfall.mean(axis=1)"
   ]
  },
  {
   "attachments": {},
   "cell_type": "markdown",
   "metadata": {},
   "source": [
    "## Grouping by\n",
    "groupby(), agg()\n",
    "Grouping is very helpfull when planning segregating data for lambda function"
   ]
  },
  {
   "cell_type": "code",
   "execution_count": null,
   "metadata": {},
   "outputs": [],
   "source": [
    "df.groupby([\"kontynent\"]).mean()"
   ]
  },
  {
   "cell_type": "code",
   "execution_count": null,
   "metadata": {},
   "outputs": [],
   "source": [
    "df.groupby([\"kontynent\",\"kraj\"]).mean()\n",
    "df"
   ]
  },
  {
   "cell_type": "code",
   "execution_count": null,
   "metadata": {},
   "outputs": [],
   "source": [
    "df.groupby([\"kontynent\"]).agg(lambda x: x.max() - x.min())"
   ]
  },
  {
   "attachments": {},
   "cell_type": "markdown",
   "metadata": {},
   "source": [
    "## Pivot Tables"
   ]
  },
  {
   "cell_type": "code",
   "execution_count": null,
   "metadata": {},
   "outputs": [],
   "source": [
    "data = [[\"Pomarańcze\", \"Północ\", 12.30],\n",
    "        [\"Jabłka\", \"Południe\", 10.55],\n",
    "        [\"Pomarańcze\", \"Południe\", 22.00],\n",
    "        [\"Banany\", \"Południe\", 5.90],\n",
    "        [\"Banany\", \"Północ\", 31.30],\n",
    "        [\"Pomarańcze\", \"Północ\", 13.10]]\n",
    "sales = pd.DataFrame(data = data,columns=[\"owoce\", \"region\", \"przychód\"])\n",
    "sales"
   ]
  },
  {
   "cell_type": "code",
   "execution_count": null,
   "metadata": {},
   "outputs": [],
   "source": [
    "pivot = pd.pivot_table(sales, index= \"owoce\", columns=\"region\", values=\"przychód\",aggfunc=\"sum\",margins=True,margins_name=\"Ogółem\")"
   ]
  },
  {
   "cell_type": "code",
   "execution_count": null,
   "metadata": {},
   "outputs": [],
   "source": [
    "pivot"
   ]
  },
  {
   "cell_type": "code",
   "execution_count": null,
   "metadata": {},
   "outputs": [],
   "source": [
    "\"Changes is a opposie of pivot table (chanign columns and index)\"\n",
    "#Pivot ilocs is to reset column \"Ogółem\"\n",
    "pd.melt(pivot.iloc[:-1,:-1].reset_index(),id_vars=\"owoce\", value_vars=[\"Północ\", \"Południe\"], value_name=\"Przychód\")"
   ]
  }
 ],
 "metadata": {
  "kernelspec": {
   "display_name": "Python 3",
   "language": "python",
   "name": "python3"
  },
  "language_info": {
   "codemirror_mode": {
    "name": "ipython",
    "version": 3
   },
   "file_extension": ".py",
   "mimetype": "text/x-python",
   "name": "python",
   "nbconvert_exporter": "python",
   "pygments_lexer": "ipython3",
   "version": "3.10.4"
  },
  "orig_nbformat": 4,
  "vscode": {
   "interpreter": {
    "hash": "b2479ae270f55b53aebf886fbbdaacff6de5921ff9a36b347b36f838676bd380"
   }
  }
 },
 "nbformat": 4,
 "nbformat_minor": 2
}
