{
 "cells": [
  {
   "cell_type": "markdown",
   "metadata": {},
   "source": [
    "**Table of contents**<a id='toc0_'></a>    \n",
    "- 1. [DateTime](#toc1_)    \n",
    "  - 1.1. [Creating DataTime](#toc1_1_)    \n",
    "  - 1.2. [Filtering DateTimeIndex](#toc1_2_)    \n",
    "  - 1.3. [Working with TimeZones](#toc1_3_)    \n",
    "  - 1.4. [Operation on DataIndexTime](#toc1_4_)    \n",
    "  - 1.5. [Reasampling and upsampling](#toc1_5_)    \n",
    "  - 1.6. [Strivng diplays](#toc1_6_)    \n",
    "\n",
    "<!-- vscode-jupyter-toc-config\n",
    "\tnumbering=true\n",
    "\tanchor=true\n",
    "\tflat=false\n",
    "\tminLevel=1\n",
    "\tmaxLevel=2\n",
    "\t/vscode-jupyter-toc-config -->\n",
    "<!-- THIS CELL WILL BE REPLACED ON TOC UPDATE. DO NOT WRITE YOUR TEXT IN THIS CELL -->"
   ]
  },
  {
   "cell_type": "markdown",
   "metadata": {},
   "source": [
    "# 1. <a id='toc1_'></a>[DateTime](#toc0_)"
   ]
  },
  {
   "cell_type": "markdown",
   "metadata": {},
   "source": [
    "## 1.1. <a id='toc1_1_'></a>[Creating DataTime](#toc0_)"
   ]
  },
  {
   "cell_type": "code",
   "execution_count": null,
   "metadata": {},
   "outputs": [],
   "source": [
    "import pandas as pd\n",
    "import numpy as np\n",
    "pd.options.plotting.backend = \"plotly\""
   ]
  },
  {
   "cell_type": "code",
   "execution_count": null,
   "metadata": {},
   "outputs": [],
   "source": [
    "\"D - day freqyency\"\n",
    "#pd.date_range()\n",
    "daily_index = pd.date_range(\"2020.02.28\",periods=4,freq=\"D\")\n",
    "daily_index"
   ]
  },
  {
   "cell_type": "code",
   "execution_count": null,
   "metadata": {},
   "outputs": [],
   "source": [
    "weekly_index = pd.date_range(\"2020.01.05\", \"2020.01.31\", freq=\"W-SUN\")\n",
    "weekly_index"
   ]
  },
  {
   "cell_type": "code",
   "execution_count": null,
   "metadata": {},
   "outputs": [],
   "source": [
    "\"Implementing index in DataFrame\"\n",
    "pd.DataFrame(data=[21,15,33,34], columns=[\"odwiedzający\"], index=weekly_index)"
   ]
  },
  {
   "cell_type": "code",
   "execution_count": null,
   "metadata": {},
   "outputs": [],
   "source": [
    "msft = pd.read_csv(\"D:\\Repozytorium\\Kody_Python\\Python_ksiazka_przyklady\\csv\\MSFT.csv\")\n",
    "msft"
   ]
  },
  {
   "cell_type": "code",
   "execution_count": null,
   "metadata": {},
   "outputs": [],
   "source": [
    "\"Range Index\"\n",
    "msft.info()"
   ]
  },
  {
   "cell_type": "code",
   "execution_count": null,
   "metadata": {},
   "outputs": [],
   "source": [
    "\"Conreting column to datetime object\"\n",
    "#pd.to_datetime\n",
    "msft.loc[:,[\"Date\"]] = pd.to_datetime(msft[\"Date\"])\n",
    "msft.dtypes"
   ]
  },
  {
   "cell_type": "code",
   "execution_count": null,
   "metadata": {},
   "outputs": [],
   "source": [
    "\"Sorting index before starting\"\n",
    "#sort_index()\n",
    "msft.sort_index()"
   ]
  },
  {
   "cell_type": "code",
   "execution_count": null,
   "metadata": {},
   "outputs": [],
   "source": [
    "\"Different approach to set Datetime\"\n",
    "#parse_dates, adtype()\n",
    "msft = pd.read_csv(\"D:\\Repozytorium\\Kody_Python\\Python_ksiazka_przyklady\\csv\\MSFT.csv\",index_col=\"Date\", parse_dates=[\"Date\"])\n",
    "msft.loc[:,\"Volume\"] = msft[\"Volume\"].astype(\"float\")"
   ]
  },
  {
   "cell_type": "code",
   "execution_count": null,
   "metadata": {},
   "outputs": [],
   "source": [
    "\"Getting acces to different datas can be Year, month,day\"\n",
    "msft.index.date"
   ]
  },
  {
   "cell_type": "markdown",
   "metadata": {},
   "source": [
    "## 1.2. <a id='toc1_2_'></a>[Filtering DateTimeIndex](#toc0_)"
   ]
  },
  {
   "cell_type": "code",
   "execution_count": null,
   "metadata": {},
   "outputs": [],
   "source": [
    "\"Checking 2019 and Adj Close data\"\n",
    "msft.loc[\"2019\",\"Adj Close\"]"
   ]
  },
  {
   "cell_type": "code",
   "execution_count": null,
   "metadata": {},
   "outputs": [],
   "source": [
    "\"Range from 2019.06 to 2020.05\"\n",
    "msft.loc[\"2019/06\":\"2020/05\",\"Adj Close\"].plot()"
   ]
  },
  {
   "cell_type": "markdown",
   "metadata": {},
   "source": [
    "## 1.3. <a id='toc1_3_'></a>[Working with TimeZones](#toc0_)"
   ]
  },
  {
   "cell_type": "code",
   "execution_count": null,
   "metadata": {},
   "outputs": [],
   "source": [
    "\"Inserting data with time information\"\n",
    "#pd.DateOffset()\n",
    "msft_close = msft.loc[:,[\"Adj Close\"]].copy()\n",
    "msft_close.index = msft_close.index + pd.DateOffset(hours=16)\n",
    "msft_close"
   ]
  },
  {
   "cell_type": "code",
   "execution_count": null,
   "metadata": {},
   "outputs": [],
   "source": [
    "'Data setting with and time changing DST (winter summer)'\n",
    "#tz_localize()\n",
    "msft_close = msft_close.tz_localize(\"America/New_York\")\n",
    "msft_close"
   ]
  },
  {
   "cell_type": "code",
   "execution_count": null,
   "metadata": {},
   "outputs": [],
   "source": [
    "\"With DST 21:00\"\n",
    "#tz_convert\n",
    "msft_close = msft_close.tz_convert(\"UTC\")\n",
    "msft_close.loc[\"2020-01-02\",\"Adj Close\"]"
   ]
  },
  {
   "cell_type": "code",
   "execution_count": null,
   "metadata": {},
   "outputs": [],
   "source": [
    "\"With DST 20:00\"\n",
    "msft_close.loc[\"2020-05-01\",\"Adj Close\"]"
   ]
  },
  {
   "cell_type": "markdown",
   "metadata": {},
   "source": [
    "## 1.4. <a id='toc1_4_'></a>[Operation on DataIndexTime](#toc0_)"
   ]
  },
  {
   "cell_type": "code",
   "execution_count": null,
   "metadata": {},
   "outputs": [],
   "source": [
    "msft_close.head()"
   ]
  },
  {
   "cell_type": "code",
   "execution_count": null,
   "metadata": {},
   "outputs": [],
   "source": [
    "\"Shifting 1 value down\"\n",
    "#shift()\n",
    "msft_close.shift(1).head()"
   ]
  },
  {
   "cell_type": "code",
   "execution_count": null,
   "metadata": {},
   "outputs": [],
   "source": [
    "\"Assainng\"\n",
    "returns = np.log(msft_close/msft_close.shift(1))\n",
    "returns"
   ]
  },
  {
   "cell_type": "code",
   "execution_count": null,
   "metadata": {},
   "outputs": [],
   "source": [
    "\"Replace can't be used cause its for values, need to use rename\"\n",
    "#rename\n",
    "returns = returns.rename(columns={\"Adj Close\":\"Stopa Zwrotu\"})"
   ]
  },
  {
   "cell_type": "code",
   "execution_count": null,
   "metadata": {},
   "outputs": [],
   "source": [
    "returns"
   ]
  },
  {
   "cell_type": "code",
   "execution_count": null,
   "metadata": {},
   "outputs": [],
   "source": [
    "returns.plot.hist()"
   ]
  },
  {
   "cell_type": "code",
   "execution_count": null,
   "metadata": {},
   "outputs": [],
   "source": [
    "\"Simpler method (percentage change)\"\n",
    "#pct_change()\n",
    "simple_rets = msft_close.pct_change()\n",
    "simple_rets = simple_rets.rename(columns={\"Adj Close\":\"Prosta Stopa Zwrotu\"})\n",
    "simple_rets"
   ]
  },
  {
   "cell_type": "markdown",
   "metadata": {},
   "source": [
    "### Correlation"
   ]
  },
  {
   "cell_type": "code",
   "execution_count": null,
   "metadata": {},
   "outputs": [],
   "source": [
    "\"More data to merge\"\n",
    "parts = []\n",
    "for file in [\"AAPL\", \"AMZN\", \"GOOGL\", \"MSFT\"]:\n",
    "    #usecols -> reading only those columns\n",
    "    adj_close = pd.read_csv(f\"D:\\Repozytorium\\Kody_Python\\Python_ksiazka_przyklady\\csv\\{file}.csv\",index_col=\"Date\", parse_dates=[\"Date\"], usecols=[\"Date\", \"Adj Close\"])\n",
    "    #Changing column name for every file\n",
    "    adj_close = adj_close.rename(columns={\"Adj Close\":file})\n",
    "    #adding to parts list to summarize all tables\n",
    "    parts.append(adj_close)\n",
    "parts"
   ]
  },
  {
   "cell_type": "code",
   "execution_count": null,
   "metadata": {},
   "outputs": [],
   "source": [
    "\"Using concat() formula for merging data\"\n",
    "#conat()\n",
    "adj_close = pd.concat(parts,axis=1)\n",
    "adj_close"
   ]
  },
  {
   "cell_type": "code",
   "execution_count": null,
   "metadata": {},
   "outputs": [],
   "source": [
    "\"Deleting all data when NA value is present\"\n",
    "#dropna()\n",
    "adj_close = adj_close.dropna()\n",
    "adj_close"
   ]
  },
  {
   "cell_type": "code",
   "execution_count": null,
   "metadata": {},
   "outputs": [],
   "source": [
    "\"Chooding data from 2019-06 to 2020-05\"\n",
    "adj_close_sample = adj_close.loc[\"2019-06\":\"2020-05\",:]\n",
    "adj_close_sample"
   ]
  },
  {
   "cell_type": "code",
   "execution_count": null,
   "metadata": {},
   "outputs": [],
   "source": [
    "\"Insertin formula starting from 100 to check prices changes\"\n",
    "rebasec_prices = adj_close_sample/adj_close_sample.iloc[0,:]*100"
   ]
  },
  {
   "cell_type": "code",
   "execution_count": null,
   "metadata": {},
   "outputs": [],
   "source": [
    "rebasec_prices.plot()"
   ]
  },
  {
   "cell_type": "code",
   "execution_count": null,
   "metadata": {},
   "outputs": [],
   "source": [
    "\"Creating correlation\"\n",
    "returns = np.log(adj_close/adj_close.shift(1))\n",
    "returns.corr()"
   ]
  },
  {
   "cell_type": "code",
   "execution_count": null,
   "metadata": {},
   "outputs": [],
   "source": [
    "import plotly.express as px\n",
    "fig = px.imshow(returns.corr(), x=adj_close.columns, y=adj_close.columns, color_continuous_scale=list(reversed(px.colors.sequential.RdBu)),zmin=-1,zmax=1)\n",
    "fig.show()"
   ]
  },
  {
   "cell_type": "markdown",
   "metadata": {},
   "source": [
    "## 1.5. <a id='toc1_5_'></a>[Reasampling and upsampling](#toc0_)"
   ]
  },
  {
   "cell_type": "code",
   "execution_count": null,
   "metadata": {},
   "outputs": [],
   "source": [
    "\"besides last you can use diffferent method like sum, mean, ohlc)\"\n",
    "#resample()\n",
    "end_of_month = adj_close.resample(\"M\").last()\n",
    "end_of_month"
   ]
  },
  {
   "cell_type": "code",
   "execution_count": null,
   "metadata": {},
   "outputs": [],
   "source": [
    "#asfreq()\n",
    "end_of_month.resample(\"D\").asfreq().head()"
   ]
  },
  {
   "cell_type": "code",
   "execution_count": null,
   "metadata": {},
   "outputs": [],
   "source": [
    "\"Asfeq is an information to not give and transformations that's why i woud be NAN, if we use ffi;; then it wiel be last known\"\n",
    "#ffill()\n",
    "end_of_month.resample(\"W-FRI\").ffill().head()"
   ]
  },
  {
   "cell_type": "markdown",
   "metadata": {},
   "source": [
    "## 1.6. <a id='toc1_6_'></a>[Strivng diplays](#toc0_)"
   ]
  },
  {
   "cell_type": "code",
   "execution_count": null,
   "metadata": {},
   "outputs": [],
   "source": [
    "msft19 = msft.loc[\"2019\",[\"Adj Close\"]].copy()\n",
    "msft19"
   ]
  },
  {
   "cell_type": "code",
   "execution_count": null,
   "metadata": {},
   "outputs": [],
   "source": [
    "\"Średnia z 25 poprzednich dni\"\n",
    "#rolling()\n",
    "msft19.loc[:,\"średnia z 25 dni\"] = msft19[\"Adj Close\"].rolling(25).mean()\n",
    "msft19.plot()"
   ]
  },
  {
   "cell_type": "code",
   "execution_count": null,
   "metadata": {},
   "outputs": [],
   "source": []
  }
 ],
 "metadata": {
  "kernelspec": {
   "display_name": "Python 3",
   "language": "python",
   "name": "python3"
  },
  "language_info": {
   "codemirror_mode": {
    "name": "ipython",
    "version": 3
   },
   "file_extension": ".py",
   "mimetype": "text/x-python",
   "name": "python",
   "nbconvert_exporter": "python",
   "pygments_lexer": "ipython3",
   "version": "3.10.4"
  },
  "orig_nbformat": 4,
  "vscode": {
   "interpreter": {
    "hash": "b2479ae270f55b53aebf886fbbdaacff6de5921ff9a36b347b36f838676bd380"
   }
  }
 },
 "nbformat": 4,
 "nbformat_minor": 2
}
