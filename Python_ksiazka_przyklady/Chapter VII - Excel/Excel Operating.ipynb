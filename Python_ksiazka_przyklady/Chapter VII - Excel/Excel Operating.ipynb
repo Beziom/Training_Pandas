{
 "cells": [
  {
   "cell_type": "markdown",
   "metadata": {},
   "source": [
    "# Excel files with pandas"
   ]
  },
  {
   "attachments": {},
   "cell_type": "markdown",
   "metadata": {},
   "source": [
    "sheet_name - reading sheets (can be list or dict)  \n",
    "skiprows  \n",
    "usecols - specific columns can be readed  \n",
    "nrows - rwos that need to be ridden  \n",
    "index_col - which col need to be index  \n",
    "header - headers for dataframe, none - default  \n",
    "names - setting names for columns as list  \n",
    "na_values - providing arguments will change it to NaN  \n",
    "keep_default_na  \n",
    "convert_float - converting setting data to float = False may by faster  \n",
    "converters - here You can provide lambda functuin"
   ]
  },
  {
   "cell_type": "code",
   "execution_count": null,
   "metadata": {},
   "outputs": [],
   "source": [
    "import pandas as pd\n",
    "from pathlib import Path\n",
    "import openpyxl"
   ]
  },
  {
   "cell_type": "code",
   "execution_count": null,
   "metadata": {},
   "outputs": [],
   "source": [
    "df = pd.read_excel(\"D:\\Repozytorium\\Kody_Python\\Python_ksiazka_przyklady\\sales_data\\\\new\\January.xlsx\")\n",
    "df.info()"
   ]
  },
  {
   "cell_type": "markdown",
   "metadata": {},
   "source": [
    "## read_excel and ExcelFile"
   ]
  },
  {
   "cell_type": "code",
   "execution_count": null,
   "metadata": {},
   "outputs": [],
   "source": [
    "\"Learning how to get current path\"\n",
    "this_dir = Path.cwd().resolve().parent\n",
    "this_dir"
   ]
  },
  {
   "cell_type": "code",
   "execution_count": null,
   "metadata": {},
   "outputs": [],
   "source": [
    "from os import listdir\n",
    "from os.path import isfile, join\n",
    "onlyfiles = [f for f in listdir(this_dir) if isfile(join(this_dir, f))]\n",
    "onlyfiles"
   ]
  },
  {
   "cell_type": "code",
   "execution_count": null,
   "metadata": {},
   "outputs": [],
   "source": [
    "\"Selecting data from \"\n",
    "df = pd.read_excel(this_dir/\"excel\"/\"stores.xlsx\",sheet_name=\"2019\",skiprows=1,usecols=\"B:F\")\n",
    "df"
   ]
  },
  {
   "cell_type": "code",
   "execution_count": null,
   "metadata": {},
   "outputs": [],
   "source": [
    "df.info()"
   ]
  },
  {
   "cell_type": "code",
   "execution_count": null,
   "metadata": {},
   "outputs": [],
   "source": [
    "\"Replaceing data from excel for Missing and\"\n",
    "def fix_missing(x):\n",
    "    return False if x in [\"\",\"MISSING\"] else x"
   ]
  },
  {
   "cell_type": "code",
   "execution_count": null,
   "metadata": {},
   "outputs": [],
   "source": [
    "#pd.read_excel(converters=)\n",
    "df = pd.read_excel(this_dir/\"excel\"/\"stores.xlsx\",sheet_name=\"2019\",skiprows=1,usecols=\"B:F\", converters={\"Sklep firmowy\":fix_missing})\n",
    "df"
   ]
  },
  {
   "cell_type": "code",
   "execution_count": null,
   "metadata": {},
   "outputs": [],
   "source": [
    "\"Sklep firmowy changed to bool\"\n",
    "df.info()"
   ]
  },
  {
   "cell_type": "code",
   "execution_count": null,
   "metadata": {},
   "outputs": [],
   "source": [
    "\"Checking columns to import, sheet-s name included too\"\n",
    "sheets = pd.read_excel(this_dir/\"excel\"/\"stores.xlsx\", sheet_name=[\"2019\",\"2020\"], skiprows=1, usecols=[\"Sklep\", \"Pracownicy\"])\n",
    "sheets[\"2019\"]"
   ]
  },
  {
   "cell_type": "code",
   "execution_count": null,
   "metadata": {},
   "outputs": [],
   "source": [
    "\"Setting header and column names\"\n",
    "df = pd.read_excel(this_dir/\"excel/stores.xlsx\", sheet_name=0, skiprows=2, skipfooter=3, usecols=\"B:C,F\", header=None, names=[\"Oddział\", \"Liczba_pracowników\", \"Firmowy\"])\n",
    "df"
   ]
  },
  {
   "cell_type": "code",
   "execution_count": null,
   "metadata": {},
   "outputs": [],
   "source": [
    "\"Interpreting MISSINH as NaN\"\n",
    "df = pd.read_excel(this_dir/\"excel/stores.xlsx\", sheet_name=\"2019\", skiprows=1, usecols=\"B,C,F\", na_values=\"MISSING\",keep_default_na=False)\n",
    "df"
   ]
  },
  {
   "cell_type": "markdown",
   "metadata": {},
   "source": [
    "## Opening by with|as functions:"
   ]
  },
  {
   "cell_type": "code",
   "execution_count": null,
   "metadata": {},
   "outputs": [],
   "source": [
    "\"With as - opening and closing automoatically to give an access to others in databse \"\n",
    "with pd.ExcelFile(this_dir/\"excel/stores.xls\") as f:\n",
    "    df1 = pd.read_excel(f,\"2019\", skiprows=1, usecols=\"B:F\", nrows=2)\n",
    "    df2 = pd.read_excel(f,\"2020\", skiprows=1, usecols=\"B:F\", nrows=2)\n",
    "df1"
   ]
  },
  {
   "cell_type": "code",
   "execution_count": null,
   "metadata": {},
   "outputs": [],
   "source": [
    "df2"
   ]
  },
  {
   "cell_type": "code",
   "execution_count": null,
   "metadata": {},
   "outputs": [],
   "source": [
    "\"Sheet names from excel file\"\n",
    "stores = pd.ExcelFile(this_dir/\"excel/stores.xlsx\")\n",
    "stores.sheet_names"
   ]
  },
  {
   "cell_type": "code",
   "execution_count": null,
   "metadata": {},
   "outputs": [],
   "source": [
    "url = (\"https://raw.githubusercontent.com/fzumstein/python-for-excel/1st-edition/xl/stores.xlsx\")\n",
    "pd.read_excel(url, skiprows=1, usecols=\"B:F\", nrows=2)"
   ]
  },
  {
   "attachments": {},
   "cell_type": "markdown",
   "metadata": {},
   "source": [
    "## to_excel and ExcelWriter\n",
    "sheet_name - sheet name where data will be saved  \n",
    "startrow and startcol - first row where dataframe will be saved  \n",
    "index and header - if You wanan to hide index use index = False, header = False  \n",
    "na_rep and inf_rep - np.nan will be convertet to enpty, inf. will be converted to \"inf\"  \n",
    "freeze_panes - it will cause freezing first rows, columns (to provie)"
   ]
  },
  {
   "cell_type": "code",
   "execution_count": null,
   "metadata": {},
   "outputs": [],
   "source": [
    "import numpy as np\n",
    "import datetime as dt"
   ]
  },
  {
   "cell_type": "code",
   "execution_count": null,
   "metadata": {},
   "outputs": [],
   "source": [
    "\"Creating list of data\"\n",
    "data=[[dt.datetime(2020,1,1,10,13), 2.222, 1, True],\n",
    "      [dt.datetime(2020,1,2), np.nan, 2, False],\n",
    "      [dt.datetime(2020,1,2), np.inf,3,True]]"
   ]
  },
  {
   "cell_type": "code",
   "execution_count": null,
   "metadata": {},
   "outputs": [],
   "source": [
    "\"Creating Dataframe\"\n",
    "df = pd.DataFrame(data=data, columns=[\"Daty\", \"zmiennoprzecinkowe\", \"całkowite\", \"logiczne\"])\n",
    "df.index.name=\"indeks\"\n"
   ]
  },
  {
   "cell_type": "code",
   "execution_count": null,
   "metadata": {},
   "outputs": [],
   "source": [
    "\"Saving reslt to Excel file with provided\"\n",
    "df.to_excel(\"written_with_pandas.xlsx\", sheet_name=\"Wyjście\", startrow=1, startcol=1)"
   ]
  },
  {
   "cell_type": "code",
   "execution_count": null,
   "metadata": {},
   "outputs": [],
   "source": [
    "with pd.ExcelWriter(\"written_with_pandas2.xlsx\") as writter:\n",
    "    df.to_excel(writter, sheet_name=\"Arkusz1\", startrow=1, startcol=1)\n",
    "    df.to_excel(writter, sheet_name=\"Arkusz1\", startrow=10, startcol=1)\n",
    "    df.to_excel(writter, sheet_name=\"Arkusz2\")"
   ]
  },
  {
   "cell_type": "code",
   "execution_count": null,
   "metadata": {},
   "outputs": [],
   "source": []
  }
 ],
 "metadata": {
  "kernelspec": {
   "display_name": "Python 3",
   "language": "python",
   "name": "python3"
  },
  "language_info": {
   "codemirror_mode": {
    "name": "ipython",
    "version": 3
   },
   "file_extension": ".py",
   "mimetype": "text/x-python",
   "name": "python",
   "nbconvert_exporter": "python",
   "pygments_lexer": "ipython3",
   "version": "3.10.4"
  },
  "orig_nbformat": 4,
  "vscode": {
   "interpreter": {
    "hash": "b2479ae270f55b53aebf886fbbdaacff6de5921ff9a36b347b36f838676bd380"
   }
  }
 },
 "nbformat": 4,
 "nbformat_minor": 2
}
