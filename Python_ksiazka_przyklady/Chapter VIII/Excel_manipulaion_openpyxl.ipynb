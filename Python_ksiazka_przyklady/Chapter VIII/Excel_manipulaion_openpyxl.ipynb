{
 "cells": [
  {
   "attachments": {},
   "cell_type": "markdown",
   "metadata": {},
   "source": [
    "# Excel manipulation from different libraries"
   ]
  },
  {
   "cell_type": "code",
   "execution_count": 1,
   "metadata": {},
   "outputs": [],
   "source": [
    "import pandas as pd\n",
    "import openpyxl\n",
    "import excel\n",
    "import datetime as dt"
   ]
  },
  {
   "cell_type": "code",
   "execution_count": 2,
   "metadata": {},
   "outputs": [
    {
     "data": {
      "text/plain": [
       "WindowsPath('D:/Repozytorium/Kody_Python/Python_ksiazka_przyklady')"
      ]
     },
     "execution_count": 2,
     "metadata": {},
     "output_type": "execute_result"
    }
   ],
   "source": [
    "from pathlib import Path\n",
    "this_dir = Path.cwd().resolve().parent\n",
    "this_dir"
   ]
  },
  {
   "cell_type": "code",
   "execution_count": 3,
   "metadata": {},
   "outputs": [
    {
     "data": {
      "text/plain": [
       "['debugging.py',\n",
       " 'dodatekC.ipynb',\n",
       " 'excel.py',\n",
       " 'LICENSE',\n",
       " 'openpyxl.xlsx',\n",
       " 'output.txt',\n",
       " 'parallel_openpyxl.py',\n",
       " 'parallel_pandas.py',\n",
       " 'parallel_xlrd.py',\n",
       " 'pep8_sample.py',\n",
       " 'r02.ipynb',\n",
       " 'r03.ipynb',\n",
       " 'r04.ipynb',\n",
       " 'r05.ipynb',\n",
       " 'r06.ipynb',\n",
       " 'r07.ipynb',\n",
       " 'r08.ipynb',\n",
       " 'r09.ipynb',\n",
       " 'r11.ipynb',\n",
       " 'r12.ipynb',\n",
       " 'requirements.txt',\n",
       " 'sales_report_in_pandas.py',\n",
       " 'sales_report_in_pandas.xlsx',\n",
       " 'sales_report_openpyxl.py',\n",
       " 'sales_report_pandas.py',\n",
       " 'sales_report_xlsxwriter.py',\n",
       " 'sales_report_xlwings.py',\n",
       " 'temperature.py',\n",
       " 'template.xltx',\n",
       " 'xd.ipynb']"
      ]
     },
     "execution_count": 3,
     "metadata": {},
     "output_type": "execute_result"
    }
   ],
   "source": [
    "from os import listdir\n",
    "from os.path import isfile, join\n",
    "onlyfiles = [f for f in listdir(this_dir) if isfile(join(this_dir, f))]\n",
    "onlyfiles"
   ]
  },
  {
   "attachments": {},
   "cell_type": "markdown",
   "metadata": {},
   "source": [
    "## Opening files and introduction in openpyxl"
   ]
  },
  {
   "cell_type": "code",
   "execution_count": 4,
   "metadata": {},
   "outputs": [],
   "source": [
    "\"Opening the file to check data - automatically is closed\"\n",
    "book = openpyxl.load_workbook(this_dir/\"excel/stores.xlsx\", data_only=True)"
   ]
  },
  {
   "cell_type": "code",
   "execution_count": 5,
   "metadata": {},
   "outputs": [],
   "source": [
    "\"Selecting data by index or column nam\"\n",
    "sheet = book[\"2019\"]\n",
    "sheet = book.worksheets[0]"
   ]
  },
  {
   "cell_type": "code",
   "execution_count": 6,
   "metadata": {},
   "outputs": [
    {
     "data": {
      "text/plain": [
       "['2019', '2020', '2019-2020']"
      ]
     },
     "execution_count": 6,
     "metadata": {},
     "output_type": "execute_result"
    }
   ],
   "source": [
    "\"Printing sheetnames\"\n",
    "book.sheetnames"
   ]
  },
  {
   "cell_type": "code",
   "execution_count": 7,
   "metadata": {},
   "outputs": [
    {
     "name": "stdout",
     "output_type": "stream",
     "text": [
      "<Worksheet \"2019\">\n",
      "2019\n",
      "<Worksheet \"2020\">\n",
      "2020\n",
      "<Worksheet \"2019-2020\">\n",
      "2019-2020\n"
     ]
    }
   ],
   "source": [
    "\"Displaying all worksheets\"\n",
    "for i in book.worksheets:\n",
    "    print(i)\n",
    "    print(i.title)"
   ]
  },
  {
   "cell_type": "code",
   "execution_count": 8,
   "metadata": {},
   "outputs": [
    {
     "data": {
      "text/plain": [
       "(8, 6)"
      ]
     },
     "execution_count": 8,
     "metadata": {},
     "output_type": "execute_result"
    }
   ],
   "source": [
    "\"Downloading specific sheets number of columns\"\n",
    "sheet.max_row, sheet.max_column"
   ]
  },
  {
   "cell_type": "code",
   "execution_count": 9,
   "metadata": {},
   "outputs": [
    {
     "data": {
      "text/plain": [
       "'Boston'"
      ]
     },
     "execution_count": 9,
     "metadata": {},
     "output_type": "execute_result"
    }
   ],
   "source": [
    "\"Reading specific cell\"\n",
    "sheet[\"B6\"].value\n",
    "sheet.cell(row=6, column=2).value"
   ]
  },
  {
   "cell_type": "code",
   "execution_count": 10,
   "metadata": {},
   "outputs": [
    {
     "data": {
      "text/plain": [
       "[['Sklep', 'Pracownicy', 'Kierownik', 'Data otwarcia', 'Sklep firmowy'],\n",
       " ['New York', 10, 'Sarah', datetime.datetime(2018, 7, 20, 0, 0), False]]"
      ]
     },
     "execution_count": 10,
     "metadata": {},
     "output_type": "execute_result"
    }
   ],
   "source": [
    "\"Selecting array from 2,2 to 8,6 cells and displaying 2 rows\"\n",
    "data = excel.read(book[\"2019\"],(2,2), (8,6))\n",
    "data[:2]"
   ]
  },
  {
   "attachments": {},
   "cell_type": "markdown",
   "metadata": {},
   "source": [
    "## Excel saving"
   ]
  },
  {
   "cell_type": "code",
   "execution_count": 11,
   "metadata": {},
   "outputs": [],
   "source": [
    "from openpyxl.drawing.image import Image\n",
    "from openpyxl.chart import BarChart, Reference\n",
    "from openpyxl.styles import Font, colors\n",
    "from openpyxl.styles.borders import Border, Side\n",
    "from openpyxl.styles.alignment import Alignment\n",
    "from openpyxl.styles.fills import PatternFill"
   ]
  },
  {
   "cell_type": "code",
   "execution_count": 12,
   "metadata": {},
   "outputs": [],
   "source": [
    "\"Creating an instance for Workbook\"\n",
    "book = openpyxl.Workbook()\n",
    "\"Getting first sheet and naming it\"\n",
    "sheet = book.active\n",
    "sheet.title = \"Arkusz1\"\n",
    "\"Inserting text to columns\"\n",
    "sheet[\"A1\"].value = \"Witaj 1\"\n",
    "sheet.cell(row=2, column=1, value=\"Witaj 2\")\n",
    "\"Font formating, positioning, backgound and font\"\n",
    "font_format = Font(color=\"FF0000\", bold=True)\n",
    "thin = Side(border_style=\"thin\", color=\"FF0000\")\n",
    "sheet[\"A3\"].value = \"Witaj 3\"\n",
    "sheet[\"A3\"].font = font_format\n",
    "sheet[\"A3\"].border = Border(top=thin, left=thin, right=thin, bottom=thin)\n",
    "sheet[\"A3\"].alignment=Alignment(horizontal=\"center\")\n",
    "sheet[\"A4\"].fill  = PatternFill(fgColor=\"FFFF00\", fill_type=\"solid\")\n",
    "\"Values formatting\"\n",
    "sheet[\"A4\"].value = 3.3333\n",
    "sheet[\"A4\"].number_format = \"0.00\"\n",
    "\"Date\"\n",
    "sheet[\"A5\"].value = dt.datetime(2016,10,13)\n",
    "sheet[\"A5\"].number_format = \"yyyy/mm/dd\"\n",
    "\"Formulas\"\n",
    "sheet[\"A6\"].value = \"=SUM(A4,2)\"\n",
    "\"Image/Picture\"\n",
    "sheet.add_image(Image(\"D:\\Repozytorium\\Kody_Python\\Python_ksiazka_przyklady\\Chapter VIII\\Maciej_Siewierski_Identyfikator.jpg\"),\"C1\")\n",
    "\"Array\"\n",
    "data = [[None, \"Północ\", \"Południe\"], [\"Ubiegły rok\", 2,5], [\"Bieżący rok\", 3 ,6]]\n",
    "excel.write(sheet, data, \"A10\")\n",
    "\n",
    "\"Chart\"\n",
    "chart = BarChart()\n",
    "chart.type = \"col\"\n",
    "chart.title = \"Sprzedaż z podziałen na regiony\"\n",
    "chart.x_axis.title = \"Regiony\"\n",
    "chart.y_axis.title = \"Sprzedaż\"\n",
    "chart_data = Reference(sheet, min_row=11, min_col=1, max_row=12, max_col=3)\n",
    "chart_categories = Reference(sheet, min_row=10, min_col=2, max_row=10, max_col=3)\n",
    "\"from_rows - interpreting data in the same way like in manually adding in Excel\"\n",
    "chart.add_data(chart_data, titles_from_data=True, from_rows=True)\n",
    "chart.set_categories(chart_categories)\n",
    "sheet.add_chart(chart,\"A15\")\n",
    "book.save(\"openpyxl.xlsx\")"
   ]
  },
  {
   "cell_type": "code",
   "execution_count": 13,
   "metadata": {},
   "outputs": [],
   "source": [
    "\"Zapisywanie szablonu\"\n",
    "book = openpyxl.Workbook()\n",
    "sheet = book.active\n",
    "sheet[\"A1\"].value = \"To jest szablon\"\n",
    "book.template = True\n",
    "book.save(\"template.xltx\")"
   ]
  },
  {
   "cell_type": "code",
   "execution_count": 14,
   "metadata": {},
   "outputs": [],
   "source": [
    "\"Przykład edycji\"\n",
    "book = openpyxl.load_workbook(\"D:\\Repozytorium\\Kody_Python\\Python_ksiazka_przyklady\\excel\\stores.xlsx\")\n",
    "book[\"2019\"][\"A1\"].value = \"zmodyfikowano\"\n",
    "book.save(\"stores_edited.xlsx\")"
   ]
  },
  {
   "cell_type": "code",
   "execution_count": 15,
   "metadata": {},
   "outputs": [],
   "source": [
    "\"Przykłąd zpaisu pliku makr\"\n",
    "book = openpyxl.load_workbook(\"D:\\Repozytorium\\Kody_Python\\Python_ksiazka_przyklady\\excel\\macro.xlsm\", keep_vba=True)\n",
    "book[\"Arkusz1\"][\"A1\"] = \"Kliknij Przycisk!\"\n",
    "book.save(\"macro_openpyxl.xlsm\")"
   ]
  },
  {
   "attachments": {},
   "cell_type": "markdown",
   "metadata": {},
   "source": [
    "## XlsxWwriter\n"
   ]
  },
  {
   "cell_type": "code",
   "execution_count": 16,
   "metadata": {},
   "outputs": [],
   "source": [
    "import xlsxwriter"
   ]
  },
  {
   "cell_type": "code",
   "execution_count": 17,
   "metadata": {},
   "outputs": [],
   "source": [
    "\"Creating Workbook instance\"\n",
    "book = xlsxwriter.Workbook(\"xlsxwriter.xlsx\")"
   ]
  },
  {
   "cell_type": "code",
   "execution_count": 18,
   "metadata": {},
   "outputs": [],
   "source": [
    "\"Creating Sheet\"\n",
    "sheet = book.add_worksheet(\"Arkusz1\")"
   ]
  },
  {
   "cell_type": "code",
   "execution_count": 19,
   "metadata": {},
   "outputs": [
    {
     "data": {
      "text/plain": [
       "0"
      ]
     },
     "execution_count": 19,
     "metadata": {},
     "output_type": "execute_result"
    }
   ],
   "source": [
    "\"Inserting single values\"\n",
    "sheet.write(\"A1\", \"Witaj 1\")\n",
    "sheet.write(1,0, \"Witaj 1\")"
   ]
  },
  {
   "cell_type": "code",
   "execution_count": 20,
   "metadata": {},
   "outputs": [
    {
     "data": {
      "text/plain": [
       "0"
      ]
     },
     "execution_count": 20,
     "metadata": {},
     "output_type": "execute_result"
    }
   ],
   "source": [
    "\"Font formating\"\n",
    "formatting = book.add_format({\"font_color\": \"#FF0000\",\n",
    "                              \"bg_color\": \"#FFFF00\",\n",
    "                              \"bold\": True, \"align\": \"center\",\n",
    "                              \"border\": 1, \"border_color\": \"#FF0000\"})\n",
    "sheet.write(\"A3\", \"Witaj 3\", formatting)"
   ]
  },
  {
   "cell_type": "code",
   "execution_count": 21,
   "metadata": {},
   "outputs": [
    {
     "data": {
      "text/plain": [
       "0"
      ]
     },
     "execution_count": 21,
     "metadata": {},
     "output_type": "execute_result"
    }
   ],
   "source": [
    "\"Number formating\"\n",
    "number_format = book.add_format({\"num_format\": \"0.00\"})\n",
    "sheet.write(\"A4\", 3.3333, number_format)"
   ]
  },
  {
   "cell_type": "code",
   "execution_count": 22,
   "metadata": {},
   "outputs": [
    {
     "data": {
      "text/plain": [
       "0"
      ]
     },
     "execution_count": 22,
     "metadata": {},
     "output_type": "execute_result"
    }
   ],
   "source": [
    "\"Date formating\"\n",
    "date_format = book.add_format({\"num_format\": \"yyyy/mm/dd\"})\n",
    "sheet.write(\"A5\", dt.date(2016, 10, 13), date_format)"
   ]
  },
  {
   "cell_type": "code",
   "execution_count": 23,
   "metadata": {},
   "outputs": [
    {
     "data": {
      "text/plain": [
       "0"
      ]
     },
     "execution_count": 23,
     "metadata": {},
     "output_type": "execute_result"
    }
   ],
   "source": [
    "\"Formulas\"\n",
    "sheet.write(\"A6\", \"=SUM(A4, 2)\")"
   ]
  },
  {
   "cell_type": "code",
   "execution_count": 24,
   "metadata": {},
   "outputs": [
    {
     "data": {
      "text/plain": [
       "0"
      ]
     },
     "execution_count": 24,
     "metadata": {},
     "output_type": "execute_result"
    }
   ],
   "source": [
    "sheet.insert_image(0, 2, \"D:\\Repozytorium\\Kody_Python\\Python_ksiazka_przyklady\\Chapter VIII\\Maciej_Siewierski_Identyfikator.jpg\")"
   ]
  },
  {
   "cell_type": "code",
   "execution_count": 25,
   "metadata": {},
   "outputs": [],
   "source": [
    "\"Array\"\n",
    "data = [[None, \"Północ\", \"Południe\"],\n",
    "        [\"Ubiegły rok\", 2, 5],\n",
    "        [\"Bieżący rok\", 3, 6]]\n",
    "excel.write(sheet, data, \"A10\")"
   ]
  },
  {
   "cell_type": "code",
   "execution_count": 26,
   "metadata": {},
   "outputs": [
    {
     "data": {
      "text/plain": [
       "0"
      ]
     },
     "execution_count": 26,
     "metadata": {},
     "output_type": "execute_result"
    }
   ],
   "source": [
    "\"Adding Chaart\"\n",
    "chart = book.add_chart({\"type\": \"column\"})\n",
    "chart.set_title({\"name\": \"Sprzedaż z podziałem na regiony\"})\n",
    "chart.add_series({\"name\": \"=Arkusz1!A11\",\n",
    "                  \"categories\": \"=Arkusz1!B10:C10\",\n",
    "                  \"values\": \"=Arkusz1!B11:C11\"})\n",
    "chart.add_series({\"name\": \"=Arkusz1!A12\",\n",
    "                  \"categories\": \"=Arkusz1!B10:C10\",\n",
    "                  \"values\": \"=Arkusz1!B12:C12\"})\n",
    "chart.set_x_axis({\"name\": \"Regiony\"})\n",
    "chart.set_y_axis({\"name\": \"Sprzedaż\"})\n",
    "sheet.insert_chart(\"A15\", chart)"
   ]
  },
  {
   "cell_type": "code",
   "execution_count": 27,
   "metadata": {},
   "outputs": [],
   "source": [
    "\"Closing\"\n",
    "book.close()"
   ]
  },
  {
   "cell_type": "code",
   "execution_count": 28,
   "metadata": {},
   "outputs": [],
   "source": [
    "book = xlsxwriter.Workbook(\"macro_xlxswriter.xlsm\")\n",
    "sheet = book.add_worksheet(\"Arkusz1\")\n",
    "sheet.write(\"A1\", \"Kliknij przycisk!\")\n",
    "book.add_vba_project(\"D:\\Repozytorium\\Kody_Python\\Python_ksiazka_przyklady\\excel\\\\vbaProject.bin\")\n",
    "sheet.insert_button(\"A3\", {\"macro\": \"Witaj\", \"caption\": \"Przycisk 1\",\n",
    "                           \"width\": 130, \"height\": 35})\n",
    "book.close()"
   ]
  },
  {
   "attachments": {},
   "cell_type": "markdown",
   "metadata": {},
   "source": [
    "## Large files"
   ]
  },
  {
   "cell_type": "code",
   "execution_count": 29,
   "metadata": {},
   "outputs": [],
   "source": [
    "\"For saving large files\"\n",
    "book = openpyxl.Workbook(write_only=True)\n",
    "sheet = book.create_sheet() # creating a sheet 1000x200\n",
    "for row in range(1000):\n",
    "    sheet.append(list(range(200)))\n",
    "book.save(\"openpyxl_optimized.xlsx\")"
   ]
  },
  {
   "cell_type": "code",
   "execution_count": null,
   "metadata": {},
   "outputs": [],
   "source": []
  }
 ],
 "metadata": {
  "kernelspec": {
   "display_name": "Python 3",
   "language": "python",
   "name": "python3"
  },
  "language_info": {
   "codemirror_mode": {
    "name": "ipython",
    "version": 3
   },
   "file_extension": ".py",
   "mimetype": "text/x-python",
   "name": "python",
   "nbconvert_exporter": "python",
   "pygments_lexer": "ipython3",
   "version": "3.10.4 (tags/v3.10.4:9d38120, Mar 23 2022, 23:13:41) [MSC v.1929 64 bit (AMD64)]"
  },
  "orig_nbformat": 4,
  "vscode": {
   "interpreter": {
    "hash": "b2479ae270f55b53aebf886fbbdaacff6de5921ff9a36b347b36f838676bd380"
   }
  }
 },
 "nbformat": 4,
 "nbformat_minor": 2
}
