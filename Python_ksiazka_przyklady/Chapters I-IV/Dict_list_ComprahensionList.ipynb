{
 "cells": [
  {
   "cell_type": "code",
   "execution_count": null,
   "metadata": {},
   "outputs": [],
   "source": [
    "#Showing data only with USD ending\n",
    "currency_pairs = [\"USDJPN\", \"USDXD\", \"USDPLN\", \"USDCAD\", \"JPNUSD\", \"PLNUSD\"]\n",
    "usd_quote = []\n",
    "\n",
    "for currency in currency_pairs:\n",
    "    if currency[3:] == \"USD\":\n",
    "        usd_quote.append(currency)\n",
    "usd_quote"
   ]
  },
  {
   "cell_type": "code",
   "execution_count": null,
   "metadata": {},
   "outputs": [],
   "source": [
    "#Another form of writinh above idea\n",
    "[currency for currency in currency_pairs if currency[3:]==\"USD\"]"
   ]
  },
  {
   "cell_type": "code",
   "execution_count": null,
   "metadata": {},
   "outputs": [],
   "source": [
    "#Place changing for \n",
    "[currency[3:] + currency[:3] for currency in currency_pairs]"
   ]
  },
  {
   "cell_type": "code",
   "execution_count": null,
   "metadata": {},
   "outputs": [],
   "source": [
    "#Comprahension lists i dictionary\n",
    "exchange_rates = {\"EURUSD\":1.1152,\n",
    "                  \"GBPUSD\":1.2354,\n",
    "                  \"AUDUSD\":0.6161}\n",
    "{k:v*100 for (k,v) in exchange_rates.items()}"
   ]
  },
  {
   "cell_type": "code",
   "execution_count": null,
   "metadata": {},
   "outputs": [],
   "source": [
    "#Comprahension list in sets\n",
    "{s + \"USD\" for s in [\"EUR\", \"PLN\", \"EUR\", \"USD\"]}"
   ]
  },
  {
   "cell_type": "code",
   "execution_count": null,
   "metadata": {},
   "outputs": [],
   "source": []
  }
 ],
 "metadata": {
  "kernelspec": {
   "display_name": "Python 3.10.4 64-bit",
   "language": "python",
   "name": "python3"
  },
  "language_info": {
   "codemirror_mode": {
    "name": "ipython",
    "version": 3
   },
   "file_extension": ".py",
   "mimetype": "text/x-python",
   "name": "python",
   "nbconvert_exporter": "python",
   "pygments_lexer": "ipython3",
   "version": "3.10.4"
  },
  "orig_nbformat": 4,
  "vscode": {
   "interpreter": {
    "hash": "b2479ae270f55b53aebf886fbbdaacff6de5921ff9a36b347b36f838676bd380"
   }
  }
 },
 "nbformat": 4,
 "nbformat_minor": 2
}
