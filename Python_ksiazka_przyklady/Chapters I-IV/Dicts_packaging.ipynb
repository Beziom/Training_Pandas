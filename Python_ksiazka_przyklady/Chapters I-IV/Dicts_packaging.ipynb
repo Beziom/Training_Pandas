{
 "cells": [
  {
   "cell_type": "markdown",
   "metadata": {},
   "source": [
    "# Rozpakowywanie danych + funkcja get()"
   ]
  },
  {
   "cell_type": "code",
   "execution_count": 1,
   "metadata": {},
   "outputs": [
    {
     "data": {
      "text/plain": [
       "{'EURUSD': 1.1152, 'GBPUSD': 1.2354, 'AUDUSD': 0.6161}"
      ]
     },
     "execution_count": 1,
     "metadata": {},
     "output_type": "execute_result"
    }
   ],
   "source": [
    "exchange_rates = {\"EURUSD\":1.1152,\n",
    "                  \"GBPUSD\":1.2354,\n",
    "                  \"AUDUSD\":0.6161}\n",
    "exchange_rates"
   ]
  },
  {
   "cell_type": "code",
   "execution_count": 2,
   "metadata": {},
   "outputs": [
    {
     "data": {
      "text/plain": [
       "1.1152"
      ]
     },
     "execution_count": 2,
     "metadata": {},
     "output_type": "execute_result"
    }
   ],
   "source": [
    "exchange_rates[\"EURUSD\"]"
   ]
  },
  {
   "cell_type": "code",
   "execution_count": 3,
   "metadata": {},
   "outputs": [
    {
     "name": "stdout",
     "output_type": "stream",
     "text": [
      "1.2\n"
     ]
    }
   ],
   "source": [
    "exchange_rates[\"EURUSD\"] = 1.2\n",
    "print(exchange_rates[\"EURUSD\"])"
   ]
  },
  {
   "cell_type": "code",
   "execution_count": 4,
   "metadata": {},
   "outputs": [
    {
     "data": {
      "text/plain": [
       "{'EURUSD': 1.2,\n",
       " 'GBPUSD': 1.2354,\n",
       " 'AUDUSD': 0.6161,\n",
       " 'SGDUSD': 0.7004,\n",
       " 'CADUSD': 1.2222}"
      ]
     },
     "execution_count": 4,
     "metadata": {},
     "output_type": "execute_result"
    }
   ],
   "source": [
    "#Rozpakowywanie dictionaries w nowym\n",
    "{**exchange_rates, **{\"SGDUSD\":0.7004, \"CADUSD\":1.2222}}"
   ]
  },
  {
   "cell_type": "code",
   "execution_count": 5,
   "metadata": {},
   "outputs": [
    {
     "data": {
      "text/plain": [
       "{'EURUSD': 1.2, 'GBPUSD': 1.2354, 'AUDUSD': 0.6161, 'POLUSD': 0.25}"
      ]
     },
     "execution_count": 5,
     "metadata": {},
     "output_type": "execute_result"
    }
   ],
   "source": [
    "#Inny rodzaj dodaania\n",
    "exchange_rates | {\"POLUSD\":0.25}"
   ]
  },
  {
   "cell_type": "code",
   "execution_count": 6,
   "metadata": {},
   "outputs": [
    {
     "data": {
      "text/plain": [
       "{1: 'EUR', 2: 'USD', 3: 'AUD'}"
      ]
     },
     "execution_count": 6,
     "metadata": {},
     "output_type": "execute_result"
    }
   ],
   "source": [
    "currencies ={1: \"EUR\", 2: \"USD\", 3: \"AUD\"}\n",
    "currencies"
   ]
  },
  {
   "cell_type": "code",
   "execution_count": 7,
   "metadata": {},
   "outputs": [
    {
     "data": {
      "text/plain": [
       "'Error'"
      ]
     },
     "execution_count": 7,
     "metadata": {},
     "output_type": "execute_result"
    }
   ],
   "source": [
    "# currencies[100] wyrzuci błąd, ale można zrobić dictionarowy if:\n",
    "currencies.get(100,\"Error\")"
   ]
  }
 ],
 "metadata": {
  "kernelspec": {
   "display_name": "Python 3.10.4 64-bit",
   "language": "python",
   "name": "python3"
  },
  "language_info": {
   "codemirror_mode": {
    "name": "ipython",
    "version": 3
   },
   "file_extension": ".py",
   "mimetype": "text/x-python",
   "name": "python",
   "nbconvert_exporter": "python",
   "pygments_lexer": "ipython3",
   "version": "3.10.4 (tags/v3.10.4:9d38120, Mar 23 2022, 23:13:41) [MSC v.1929 64 bit (AMD64)]"
  },
  "orig_nbformat": 4,
  "vscode": {
   "interpreter": {
    "hash": "b2479ae270f55b53aebf886fbbdaacff6de5921ff9a36b347b36f838676bd380"
   }
  }
 },
 "nbformat": 4,
 "nbformat_minor": 2
}
